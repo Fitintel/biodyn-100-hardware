{
 "cells": [
  {
   "cell_type": "markdown",
   "id": "98b854ef",
   "metadata": {},
   "source": [
    "# Analysis of BIODYN-100 BOM (Bill Of Materials)\n",
    "\n",
    "Data analysis of the bill of materials.\n",
    "Associates components with digikey links."
   ]
  },
  {
   "cell_type": "code",
   "execution_count": 28,
   "id": "13ddee7f",
   "metadata": {},
   "outputs": [],
   "source": [
    "import csv\n",
    "\n",
    "bom_file_name = \"BIODYN-100 v58 BOM.csv\"\n",
    "links_file_name = \"BIODYN-100 v58 Links.txt\"\n",
    "\n",
    "columns = []\n",
    "rows = []\n",
    "links = []\n",
    "\n",
    "with open(bom_file_name, 'r') as file:\n",
    "\treader = csv.DictReader(file, delimiter=';')\n",
    "\tcolumns = reader.fieldnames\n",
    "\tfor row in reader:\n",
    "\t\trows.append(row)\n",
    "\n",
    "with open(links_file_name, 'r') as file:\n",
    "\tfor line in file:\n",
    "\t\tlinks.append(line.strip())\n"
   ]
  },
  {
   "cell_type": "code",
   "execution_count": 24,
   "id": "cf306777",
   "metadata": {},
   "outputs": [
    {
     "name": "stdout",
     "output_type": "stream",
     "text": [
      "Column Names:\n",
      "\t Part, Value, Device, Footprint Name\n",
      "\t Detailed Description, AVAILABILITY, CATEGORY, COPYRIGHT\n",
      "\t DATASHEET, DESCRIPTION, DIGI-KEY_PART_NUMBER_1, DIGI-KEY_PART_NUMBER_2\n",
      "\t DIGI-KEY_PART_NUMBER_3, MANUFACTURER, MANUFACTURER_NAME, MANUFACTURER_PART_NUMBER\n",
      "\t MAXIMUM_PACKAGE_HEIGHT, MF, MP, MPN\n",
      "\t OPERATING_TEMPERATURE, PACKAGE, PACKAGE_SIZE, PACKAGE_TYPE\n",
      "\t PARTREV, PART_STATUS, POPULARITY, PRICE\n",
      "\t PROD_ID, PURCHASE-URL, REFDES, ROHS\n",
      "\t SERIES, SNAPEDA_PACKAGE_ID, SPICEPREFIX, STANDARD\n",
      "\t SUBCATEGORY, THERMALLOSS, TYPE, VALUE\n",
      "\t \n"
     ]
    }
   ],
   "source": [
    "print(\"Column Names:\")\n",
    "\n",
    "lencolsets = 4\n",
    "colsets = [columns[i:i + lencolsets] for i in range(0, len(columns), lencolsets)]\n",
    "for colset in colsets:\n",
    "\tprint(\"\\t\", \", \".join(colset))"
   ]
  },
  {
   "cell_type": "code",
   "execution_count": null,
   "id": "ad9bbd64",
   "metadata": {},
   "outputs": [],
   "source": []
  }
 ],
 "metadata": {
  "kernelspec": {
   "display_name": "Python 3",
   "language": "python",
   "name": "python3"
  },
  "language_info": {
   "codemirror_mode": {
    "name": "ipython",
    "version": 3
   },
   "file_extension": ".py",
   "mimetype": "text/x-python",
   "name": "python",
   "nbconvert_exporter": "python",
   "pygments_lexer": "ipython3",
   "version": "3.10.16"
  }
 },
 "nbformat": 4,
 "nbformat_minor": 5
}
