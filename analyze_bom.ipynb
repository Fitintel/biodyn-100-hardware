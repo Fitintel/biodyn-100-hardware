{
 "cells": [
  {
   "cell_type": "markdown",
   "id": "04ec25da",
   "metadata": {},
   "source": [
    "# Analysis of BIODYN-100 BOM"
   ]
  },
  {
   "cell_type": "code",
   "execution_count": 5,
   "id": "8e088c58",
   "metadata": {},
   "outputs": [
    {
     "name": "stdout",
     "output_type": "stream",
     "text": [
      "Columns: Part, Value, Device, Footprint Name, Detailed Description, Link, Manuf Part Number, Datasheet URL, Description, Manufacturer, DigiKey Part Number, Pricing, Raw Response\n"
     ]
    }
   ],
   "source": [
    "# Read Tidy BOM\n",
    "import csv\n",
    "\n",
    "bom_file_name = \"BIODYN-100 v58 BOM Tidy.csv\"\n",
    "\n",
    "colnames = []\n",
    "rows = []\n",
    "\n",
    "with open(bom_file_name, 'r') as file:\n",
    "\treader = csv.DictReader(file, delimiter=';')\n",
    "\tcolnames = reader.fieldnames\n",
    "\tfor row in reader:\n",
    "\t\trows.append(row)\n",
    "\n",
    "colnamesstr = \", \".join(colnames)\n",
    "print(f\"Columns: {colnamesstr}\")"
   ]
  }
 ],
 "metadata": {
  "kernelspec": {
   "display_name": "Python 3",
   "language": "python",
   "name": "python3"
  },
  "language_info": {
   "codemirror_mode": {
    "name": "ipython",
    "version": 3
   },
   "file_extension": ".py",
   "mimetype": "text/x-python",
   "name": "python",
   "nbconvert_exporter": "python",
   "pygments_lexer": "ipython3",
   "version": "3.10.16"
  }
 },
 "nbformat": 4,
 "nbformat_minor": 5
}
