{
 "cells": [
  {
   "cell_type": "markdown",
   "id": "04ec25da",
   "metadata": {},
   "source": [
    "# Analysis of BIODYN-100 BOM\n",
    "Python 3.10.16"
   ]
  },
  {
   "cell_type": "code",
   "execution_count": 13,
   "id": "3a3ef656",
   "metadata": {},
   "outputs": [
    {
     "name": "stdout",
     "output_type": "stream",
     "text": [
      "Requirement already satisfied: pandas in /opt/homebrew/lib/python3.10/site-packages (2.3.2)\n",
      "Requirement already satisfied: matplotlib in /opt/homebrew/lib/python3.10/site-packages (3.10.6)\n",
      "Requirement already satisfied: numpy>=1.22.4 in /opt/homebrew/lib/python3.10/site-packages (from pandas) (2.2.6)\n",
      "Requirement already satisfied: python-dateutil>=2.8.2 in /Users/callum/Library/Python/3.10/lib/python/site-packages (from pandas) (2.9.0.post0)\n",
      "Requirement already satisfied: pytz>=2020.1 in /opt/homebrew/lib/python3.10/site-packages (from pandas) (2025.2)\n",
      "Requirement already satisfied: tzdata>=2022.7 in /opt/homebrew/lib/python3.10/site-packages (from pandas) (2025.2)\n",
      "Requirement already satisfied: contourpy>=1.0.1 in /opt/homebrew/lib/python3.10/site-packages (from matplotlib) (1.3.2)\n",
      "Requirement already satisfied: cycler>=0.10 in /opt/homebrew/lib/python3.10/site-packages (from matplotlib) (0.12.1)\n",
      "Requirement already satisfied: fonttools>=4.22.0 in /opt/homebrew/lib/python3.10/site-packages (from matplotlib) (4.60.0)\n",
      "Requirement already satisfied: kiwisolver>=1.3.1 in /opt/homebrew/lib/python3.10/site-packages (from matplotlib) (1.4.9)\n",
      "Requirement already satisfied: packaging>=20.0 in /Users/callum/Library/Python/3.10/lib/python/site-packages (from matplotlib) (25.0)\n",
      "Requirement already satisfied: pillow>=8 in /opt/homebrew/lib/python3.10/site-packages (from matplotlib) (11.3.0)\n",
      "Requirement already satisfied: pyparsing>=2.3.1 in /opt/homebrew/lib/python3.10/site-packages (from matplotlib) (3.2.5)\n",
      "Requirement already satisfied: six>=1.5 in /Users/callum/Library/Python/3.10/lib/python/site-packages (from python-dateutil>=2.8.2->pandas) (1.17.0)\n",
      "\n",
      "\u001b[1m[\u001b[0m\u001b[34;49mnotice\u001b[0m\u001b[1;39;49m]\u001b[0m\u001b[39;49m A new release of pip is available: \u001b[0m\u001b[31;49m24.3.1\u001b[0m\u001b[39;49m -> \u001b[0m\u001b[32;49m25.2\u001b[0m\n",
      "\u001b[1m[\u001b[0m\u001b[34;49mnotice\u001b[0m\u001b[1;39;49m]\u001b[0m\u001b[39;49m To update, run: \u001b[0m\u001b[32;49mpython3.10 -m pip install --upgrade pip\u001b[0m\n",
      "Note: you may need to restart the kernel to use updated packages.\n"
     ]
    }
   ],
   "source": [
    "# Install libraries\n",
    "%pip install pandas matplotlib"
   ]
  },
  {
   "cell_type": "code",
   "execution_count": 14,
   "id": "8e088c58",
   "metadata": {},
   "outputs": [
    {
     "data": {
      "text/html": [
       "<div>\n",
       "<style scoped>\n",
       "    .dataframe tbody tr th:only-of-type {\n",
       "        vertical-align: middle;\n",
       "    }\n",
       "\n",
       "    .dataframe tbody tr th {\n",
       "        vertical-align: top;\n",
       "    }\n",
       "\n",
       "    .dataframe thead th {\n",
       "        text-align: right;\n",
       "    }\n",
       "</style>\n",
       "<table border=\"1\" class=\"dataframe\">\n",
       "  <thead>\n",
       "    <tr style=\"text-align: right;\">\n",
       "      <th></th>\n",
       "      <th>Part</th>\n",
       "      <th>Value</th>\n",
       "      <th>Device</th>\n",
       "      <th>Footprint Name</th>\n",
       "      <th>Detailed Description</th>\n",
       "      <th>Link</th>\n",
       "      <th>Manuf Part Number</th>\n",
       "      <th>Datasheet URL</th>\n",
       "      <th>Description</th>\n",
       "      <th>Manufacturer</th>\n",
       "      <th>DigiKey Part Number</th>\n",
       "      <th>Pricing</th>\n",
       "      <th>Stock</th>\n",
       "    </tr>\n",
       "  </thead>\n",
       "  <tbody>\n",
       "    <tr>\n",
       "      <th>0</th>\n",
       "      <td>EMG1:D1</td>\n",
       "      <td>1N4148DO35-10</td>\n",
       "      <td>1N4148DO35-10</td>\n",
       "      <td>DO35-10</td>\n",
       "      <td>DIODE</td>\n",
       "      <td>https://www.digikey.ca/en/products/detail/onse...</td>\n",
       "      <td>1N4148</td>\n",
       "      <td>https://www.mccsemi.com/pdf/Products/1N4148WX(...</td>\n",
       "      <td>DIODE STANDARD 75V 150MA SOD323</td>\n",
       "      <td>MCC (Micro Commercial Components)</td>\n",
       "      <td>1N4148WXTPMSCT-ND</td>\n",
       "      <td>[{'break_quantity': 1, 'total_price': 0.1, 'un...</td>\n",
       "      <td>1145155.0</td>\n",
       "    </tr>\n",
       "    <tr>\n",
       "      <th>1</th>\n",
       "      <td>EMG1:D2</td>\n",
       "      <td>1N4148DO35-10</td>\n",
       "      <td>1N4148DO35-10</td>\n",
       "      <td>DO35-10</td>\n",
       "      <td>DIODE</td>\n",
       "      <td>https://www.digikey.ca/en/products/detail/onse...</td>\n",
       "      <td>1N4148</td>\n",
       "      <td>https://www.mccsemi.com/pdf/Products/1N4148WX(...</td>\n",
       "      <td>DIODE STANDARD 75V 150MA SOD323</td>\n",
       "      <td>MCC (Micro Commercial Components)</td>\n",
       "      <td>1N4148WXTPMSCT-ND</td>\n",
       "      <td>[{'break_quantity': 1, 'total_price': 0.1, 'un...</td>\n",
       "      <td>1145155.0</td>\n",
       "    </tr>\n",
       "  </tbody>\n",
       "</table>\n",
       "</div>"
      ],
      "text/plain": [
       "      Part          Value         Device Footprint Name Detailed Description  \\\n",
       "0  EMG1:D1  1N4148DO35-10  1N4148DO35-10        DO35-10                DIODE   \n",
       "1  EMG1:D2  1N4148DO35-10  1N4148DO35-10        DO35-10                DIODE   \n",
       "\n",
       "                                                Link Manuf Part Number  \\\n",
       "0  https://www.digikey.ca/en/products/detail/onse...            1N4148   \n",
       "1  https://www.digikey.ca/en/products/detail/onse...            1N4148   \n",
       "\n",
       "                                       Datasheet URL  \\\n",
       "0  https://www.mccsemi.com/pdf/Products/1N4148WX(...   \n",
       "1  https://www.mccsemi.com/pdf/Products/1N4148WX(...   \n",
       "\n",
       "                       Description                       Manufacturer  \\\n",
       "0  DIODE STANDARD 75V 150MA SOD323  MCC (Micro Commercial Components)   \n",
       "1  DIODE STANDARD 75V 150MA SOD323  MCC (Micro Commercial Components)   \n",
       "\n",
       "  DigiKey Part Number                                            Pricing  \\\n",
       "0   1N4148WXTPMSCT-ND  [{'break_quantity': 1, 'total_price': 0.1, 'un...   \n",
       "1   1N4148WXTPMSCT-ND  [{'break_quantity': 1, 'total_price': 0.1, 'un...   \n",
       "\n",
       "       Stock  \n",
       "0  1145155.0  \n",
       "1  1145155.0  "
      ]
     },
     "execution_count": 14,
     "metadata": {},
     "output_type": "execute_result"
    }
   ],
   "source": [
    "# Read Tidy BOM\n",
    "import pandas as pd\n",
    "bom_file_name = \"data/BIODYN-100 v58 BOM Tidy.csv\"\n",
    "\n",
    "df = pd.read_csv(bom_file_name, sep=\";\")\n",
    "df.head(2)"
   ]
  },
  {
   "cell_type": "markdown",
   "id": "012fde04",
   "metadata": {},
   "source": [
    "# Calculate Pricing"
   ]
  },
  {
   "cell_type": "code",
   "execution_count": 15,
   "id": "ee01528c",
   "metadata": {},
   "outputs": [
    {
     "data": {
      "text/html": [
       "<div>\n",
       "<style scoped>\n",
       "    .dataframe tbody tr th:only-of-type {\n",
       "        vertical-align: middle;\n",
       "    }\n",
       "\n",
       "    .dataframe tbody tr th {\n",
       "        vertical-align: top;\n",
       "    }\n",
       "\n",
       "    .dataframe thead th {\n",
       "        text-align: right;\n",
       "    }\n",
       "</style>\n",
       "<table border=\"1\" class=\"dataframe\">\n",
       "  <thead>\n",
       "    <tr style=\"text-align: right;\">\n",
       "      <th></th>\n",
       "      <th>Count</th>\n",
       "      <th>Manuf Part Number</th>\n",
       "      <th>Description</th>\n",
       "      <th>DigiKey Part Number</th>\n",
       "      <th>Link</th>\n",
       "      <th>Pricing</th>\n",
       "    </tr>\n",
       "    <tr>\n",
       "      <th>Device</th>\n",
       "      <th></th>\n",
       "      <th></th>\n",
       "      <th></th>\n",
       "      <th></th>\n",
       "      <th></th>\n",
       "      <th></th>\n",
       "    </tr>\n",
       "  </thead>\n",
       "  <tbody>\n",
       "    <tr>\n",
       "      <th>1N4148DO35-10</th>\n",
       "      <td>2</td>\n",
       "      <td>1N4148</td>\n",
       "      <td>DIODE STANDARD 75V 150MA SOD323</td>\n",
       "      <td>1N4148WXTPMSCT-ND</td>\n",
       "      <td>https://www.digikey.ca/en/products/detail/onse...</td>\n",
       "      <td>[{'break_quantity': 1, 'total_price': 0.1, 'un...</td>\n",
       "    </tr>\n",
       "    <tr>\n",
       "      <th>885012005024_6.3V(DC)</th>\n",
       "      <td>5</td>\n",
       "      <td>885012005024</td>\n",
       "      <td>CAP CER 6.8PF 16V C0G/NP0 0402</td>\n",
       "      <td>732-7440-1-ND</td>\n",
       "      <td>https://www.digikey.ca/en/products/detail/würt...</td>\n",
       "      <td>[{'break_quantity': 1, 'total_price': 0.1, 'un...</td>\n",
       "    </tr>\n",
       "  </tbody>\n",
       "</table>\n",
       "</div>"
      ],
      "text/plain": [
       "                       Count Manuf Part Number  \\\n",
       "Device                                           \n",
       "1N4148DO35-10              2            1N4148   \n",
       "885012005024_6.3V(DC)      5      885012005024   \n",
       "\n",
       "                                           Description DigiKey Part Number  \\\n",
       "Device                                                                       \n",
       "1N4148DO35-10          DIODE STANDARD 75V 150MA SOD323   1N4148WXTPMSCT-ND   \n",
       "885012005024_6.3V(DC)   CAP CER 6.8PF 16V C0G/NP0 0402       732-7440-1-ND   \n",
       "\n",
       "                                                                    Link  \\\n",
       "Device                                                                     \n",
       "1N4148DO35-10          https://www.digikey.ca/en/products/detail/onse...   \n",
       "885012005024_6.3V(DC)  https://www.digikey.ca/en/products/detail/würt...   \n",
       "\n",
       "                                                                 Pricing  \n",
       "Device                                                                    \n",
       "1N4148DO35-10          [{'break_quantity': 1, 'total_price': 0.1, 'un...  \n",
       "885012005024_6.3V(DC)  [{'break_quantity': 1, 'total_price': 0.1, 'un...  "
      ]
     },
     "execution_count": 15,
     "metadata": {},
     "output_type": "execute_result"
    }
   ],
   "source": [
    "df['Count'] = 1\n",
    "agg_funcs = {\n",
    "\t'Count': 'sum', \n",
    "\t'Manuf Part Number': 'first', \n",
    "\t'Description': 'first', \n",
    "\t'DigiKey Part Number': 'first', \n",
    "\t'Link': 'first',\n",
    "\t'Pricing': 'first'\n",
    "\t}\n",
    "df_by_device = df.groupby(df['Device']).aggregate(agg_funcs)\n",
    "\n",
    "df_by_device.head(2)"
   ]
  },
  {
   "cell_type": "code",
   "execution_count": 16,
   "id": "c0e2ff93",
   "metadata": {},
   "outputs": [
    {
     "data": {
      "text/html": [
       "<div>\n",
       "<style scoped>\n",
       "    .dataframe tbody tr th:only-of-type {\n",
       "        vertical-align: middle;\n",
       "    }\n",
       "\n",
       "    .dataframe tbody tr th {\n",
       "        vertical-align: top;\n",
       "    }\n",
       "\n",
       "    .dataframe thead th {\n",
       "        text-align: right;\n",
       "    }\n",
       "</style>\n",
       "<table border=\"1\" class=\"dataframe\">\n",
       "  <thead>\n",
       "    <tr style=\"text-align: right;\">\n",
       "      <th></th>\n",
       "      <th>Boards</th>\n",
       "      <th>Price (USD)</th>\n",
       "      <th>Average Price (USD)</th>\n",
       "    </tr>\n",
       "  </thead>\n",
       "  <tbody>\n",
       "    <tr>\n",
       "      <th>0</th>\n",
       "      <td>1</td>\n",
       "      <td>60.910</td>\n",
       "      <td>60.910</td>\n",
       "    </tr>\n",
       "    <tr>\n",
       "      <th>1</th>\n",
       "      <td>2</td>\n",
       "      <td>118.416</td>\n",
       "      <td>59.208</td>\n",
       "    </tr>\n",
       "    <tr>\n",
       "      <th>2</th>\n",
       "      <td>3</td>\n",
       "      <td>176.082</td>\n",
       "      <td>58.694</td>\n",
       "    </tr>\n",
       "    <tr>\n",
       "      <th>3</th>\n",
       "      <td>4</td>\n",
       "      <td>228.740</td>\n",
       "      <td>57.185</td>\n",
       "    </tr>\n",
       "  </tbody>\n",
       "</table>\n",
       "</div>"
      ],
      "text/plain": [
       "   Boards  Price (USD)  Average Price (USD)\n",
       "0       1       60.910               60.910\n",
       "1       2      118.416               59.208\n",
       "2       3      176.082               58.694\n",
       "3       4      228.740               57.185"
      ]
     },
     "execution_count": 16,
     "metadata": {},
     "output_type": "execute_result"
    }
   ],
   "source": [
    "import json\n",
    "\n",
    "def price_for_boards(n: int) -> float:\n",
    "\ttotal = 0\n",
    "\tfor row in df_by_device.itertuples():\n",
    "\t\tpricestr = getattr(row, 'Pricing')\n",
    "\t\tdevice = row.Index\n",
    "\t\tif pricestr is None or pricestr == '':\n",
    "\t\t\tif \"BATTERYLIPO-TABS\" != device:\n",
    "\t\t\t\tprint(\"NO PRICE FOR\", device)\n",
    "\t\t\tcontinue\n",
    "\t\tpricing = json.loads(pricestr.replace(\"'\", '\"'))\n",
    "\t\tcount = getattr(row, 'Count')\n",
    "\t\tbiggest = None\n",
    "\t\tfor p in pricing:\n",
    "\t\t\tif biggest is None or (p['break_quantity'] > biggest['break_quantity'] and p['break_quantity'] <= n * count):\n",
    "\t\t\t\tbiggest = p\n",
    "\t\tdev_sum = biggest['unit_price'] * count * n\n",
    "\t\ttotal += dev_sum\n",
    "\treturn total\n",
    "\n",
    "def avg_price_for_boards(n: int) -> float:\n",
    "\treturn price_for_boards(n) / n\n",
    "\n",
    "price_for_boards(1)\n",
    "\n",
    "df_price_for_boards = pd.DataFrame([i for i in range(1, 500)], columns=['Boards'])\n",
    "df_price_for_boards[\"Price (USD)\"] = df_price_for_boards['Boards'].apply(price_for_boards)\n",
    "df_price_for_boards[\"Average Price (USD)\"] = df_price_for_boards['Boards'].apply(avg_price_for_boards)\n",
    "\n",
    "df_price_for_boards.head(4)"
   ]
  },
  {
   "cell_type": "code",
   "execution_count": 17,
   "id": "45730555",
   "metadata": {},
   "outputs": [
    {
     "data": {
      "image/png": "[encoded data removed]",
      "text/plain": [
       "<Figure size 640x480 with 1 Axes>"
      ]
     },
     "metadata": {},
     "output_type": "display_data"
    }
   ],
   "source": [
    "import matplotlib.pyplot as plt\n",
    "\n",
    "plt.xlabel('Number of Boards')\n",
    "plt.ylabel('Price per Board (USD)')\n",
    "plt.title('BIODYN-100 PCB Average Component Price vs Number of Boards')\n",
    "plt.ylim(0, 65)\n",
    "plt.plot(df_price_for_boards['Boards'], df_price_for_boards['Average Price (USD)'])\n",
    "plt.show()"
   ]
  },
  {
   "cell_type": "code",
   "execution_count": 18,
   "id": "1bf4e837",
   "metadata": {},
   "outputs": [
    {
     "data": {
      "image/png": "[encoded data removed]",
      "text/plain": [
       "<Figure size 640x480 with 1 Axes>"
      ]
     },
     "metadata": {},
     "output_type": "display_data"
    }
   ],
   "source": [
    "import matplotlib.pyplot as plt\n",
    "\n",
    "plt.xlabel('Number of Boards')\n",
    "plt.ylabel('Total Price (USD)')\n",
    "plt.title('BIODYN-100 Total PCB Component Price vs Number of Boards')\n",
    "plt.plot(df_price_for_boards['Boards'], df_price_for_boards['Price (USD)'])\n",
    "plt.show()"
   ]
  },
  {
   "cell_type": "markdown",
   "id": "13b9727b",
   "metadata": {},
   "source": [
    "\n",
    "Copyright © 2025 Callum Mackenzie "
   ]
  }
 ],
 "metadata": {
  "kernelspec": {
   "display_name": "Python 3",
   "language": "python",
   "name": "python3"
  },
  "language_info": {
   "codemirror_mode": {
    "name": "ipython",
    "version": 3
   },
   "file_extension": ".py",
   "mimetype": "text/x-python",
   "name": "python",
   "nbconvert_exporter": "python",
   "pygments_lexer": "ipython3",
   "version": "3.10.16"
  }
 },
 "nbformat": 4,
 "nbformat_minor": 5
}
