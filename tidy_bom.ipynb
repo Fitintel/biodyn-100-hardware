{
 "cells": [
  {
   "cell_type": "markdown",
   "id": "98b854ef",
   "metadata": {},
   "source": [
    "# Cleaning of BIODYN-100 BOM\n",
    "Python 3.10.16\n",
    "\n",
    "Associates components with Digikey links, uses the Digikey API to get additional data.\n"
   ]
  },
  {
   "cell_type": "code",
   "execution_count": 2,
   "id": "288133e3",
   "metadata": {},
   "outputs": [
    {
     "name": "stdout",
     "output_type": "stream",
     "text": [
      "Collecting git+https://github.com/hurricaneJoef/digikey-api.git\n",
      "  Cloning https://github.com/hurricaneJoef/digikey-api.git to /private/var/folders/0l/865rdbcs6jsb1367y_c84g0h0000gn/T/pip-req-build-ubecnhin\n",
      "  Running command git clone --filter=blob:none --quiet https://github.com/hurricaneJoef/digikey-api.git /private/var/folders/0l/865rdbcs6jsb1367y_c84g0h0000gn/T/pip-req-build-ubecnhin\n",
      "  Resolved https://github.com/hurricaneJoef/digikey-api.git to commit e4418f4aeb1c49c1e9b6c11f07e0b14567a43099\n",
      "  Preparing metadata (setup.py) ... \u001b[?25ldone\n",
      "\u001b[?25hRequirement already satisfied: python-dotenv in /opt/homebrew/lib/python3.10/site-packages (1.1.1)\n",
      "Requirement already satisfied: requests>=2.22.0 in /opt/homebrew/lib/python3.10/site-packages (from digikey-api==1.0.0) (2.32.5)\n",
      "Requirement already satisfied: retrying>=1.3.3 in /opt/homebrew/lib/python3.10/site-packages (from digikey-api==1.0.0) (1.4.2)\n",
      "Requirement already satisfied: inflection>=0.3.1 in /opt/homebrew/lib/python3.10/site-packages (from digikey-api==1.0.0) (0.5.1)\n",
      "Requirement already satisfied: certauth>=1.3.0 in /opt/homebrew/lib/python3.10/site-packages (from digikey-api==1.0.0) (1.3.0)\n",
      "Requirement already satisfied: urllib3>=1.25.3 in /opt/homebrew/lib/python3.10/site-packages (from digikey-api==1.0.0) (2.5.0)\n",
      "Requirement already satisfied: pyopenssl in /opt/homebrew/lib/python3.10/site-packages (from certauth>=1.3.0->digikey-api==1.0.0) (25.3.0)\n",
      "Requirement already satisfied: tldextract in /opt/homebrew/lib/python3.10/site-packages (from certauth>=1.3.0->digikey-api==1.0.0) (5.3.0)\n",
      "Requirement already satisfied: charset_normalizer<4,>=2 in /opt/homebrew/lib/python3.10/site-packages (from requests>=2.22.0->digikey-api==1.0.0) (3.4.3)\n",
      "Requirement already satisfied: idna<4,>=2.5 in /opt/homebrew/lib/python3.10/site-packages (from requests>=2.22.0->digikey-api==1.0.0) (3.10)\n",
      "Requirement already satisfied: certifi>=2017.4.17 in /opt/homebrew/lib/python3.10/site-packages (from requests>=2.22.0->digikey-api==1.0.0) (2025.8.3)\n",
      "Requirement already satisfied: cryptography<47,>=45.0.7 in /opt/homebrew/lib/python3.10/site-packages (from pyopenssl->certauth>=1.3.0->digikey-api==1.0.0) (46.0.1)\n",
      "Requirement already satisfied: typing-extensions>=4.9 in /Users/callum/Library/Python/3.10/lib/python/site-packages (from pyopenssl->certauth>=1.3.0->digikey-api==1.0.0) (4.15.0)\n",
      "Requirement already satisfied: requests-file>=1.4 in /opt/homebrew/lib/python3.10/site-packages (from tldextract->certauth>=1.3.0->digikey-api==1.0.0) (2.1.0)\n",
      "Requirement already satisfied: filelock>=3.0.8 in /opt/homebrew/lib/python3.10/site-packages (from tldextract->certauth>=1.3.0->digikey-api==1.0.0) (3.19.1)\n",
      "Requirement already satisfied: cffi>=2.0.0 in /opt/homebrew/lib/python3.10/site-packages (from cryptography<47,>=45.0.7->pyopenssl->certauth>=1.3.0->digikey-api==1.0.0) (2.0.0)\n",
      "Requirement already satisfied: pycparser in /opt/homebrew/lib/python3.10/site-packages (from cffi>=2.0.0->cryptography<47,>=45.0.7->pyopenssl->certauth>=1.3.0->digikey-api==1.0.0) (2.23)\n",
      "\n",
      "\u001b[1m[\u001b[0m\u001b[34;49mnotice\u001b[0m\u001b[1;39;49m]\u001b[0m\u001b[39;49m A new release of pip is available: \u001b[0m\u001b[31;49m24.3.1\u001b[0m\u001b[39;49m -> \u001b[0m\u001b[32;49m25.2\u001b[0m\n",
      "\u001b[1m[\u001b[0m\u001b[34;49mnotice\u001b[0m\u001b[1;39;49m]\u001b[0m\u001b[39;49m To update, run: \u001b[0m\u001b[32;49mpython3.10 -m pip install --upgrade pip\u001b[0m\n",
      "Note: you may need to restart the kernel to use updated packages.\n"
     ]
    }
   ],
   "source": [
    "# Install libraries\n",
    "%pip install python-dotenv git+https://github.com/hurricaneJoef/digikey-api.git"
   ]
  },
  {
   "cell_type": "markdown",
   "id": "c725a223",
   "metadata": {},
   "source": [
    "## Read In BOM and Links"
   ]
  },
  {
   "cell_type": "code",
   "execution_count": 3,
   "id": "13ddee7f",
   "metadata": {},
   "outputs": [],
   "source": [
    "import csv\n",
    "\n",
    "bom_file_name = \"data/BIODYN-100 v58 BOM.csv\"\n",
    "links_file_name = \"data/BIODYN-100 v58 Links.txt\"\n",
    "\n",
    "colnames = []\n",
    "rows = []\n",
    "links = []\n",
    "\n",
    "with open(bom_file_name, 'r') as file:\n",
    "\treader = csv.DictReader(file, delimiter=';')\n",
    "\tcolnames = reader.fieldnames\n",
    "\tfor row in reader:\n",
    "\t\trows.append(row)\n",
    "\n",
    "with open(links_file_name, 'r') as file:\n",
    "\tfor line in file:\n",
    "\t\tlinks.append(line.strip())\n"
   ]
  },
  {
   "cell_type": "markdown",
   "id": "1487c631",
   "metadata": {},
   "source": [
    "## Filter Only for Columns we Want"
   ]
  },
  {
   "cell_type": "code",
   "execution_count": 4,
   "id": "cf306777",
   "metadata": {},
   "outputs": [
    {
     "name": "stdout",
     "output_type": "stream",
     "text": [
      "Column Names:\n",
      "\t Part, Value, Device, Footprint Name\n",
      "\t Detailed Description, AVAILABILITY, CATEGORY, COPYRIGHT\n",
      "\t DATASHEET, DESCRIPTION, DIGI-KEY_PART_NUMBER_1, DIGI-KEY_PART_NUMBER_2\n",
      "\t DIGI-KEY_PART_NUMBER_3, MANUFACTURER, MANUFACTURER_NAME, MANUFACTURER_PART_NUMBER\n",
      "\t MAXIMUM_PACKAGE_HEIGHT, MF, MP, MPN\n",
      "\t OPERATING_TEMPERATURE, PACKAGE, PACKAGE_SIZE, PACKAGE_TYPE\n",
      "\t PARTREV, PART_STATUS, POPULARITY, PRICE\n",
      "\t PROD_ID, PURCHASE-URL, REFDES, ROHS\n",
      "\t SERIES, SNAPEDA_PACKAGE_ID, SPICEPREFIX, STANDARD\n",
      "\t SUBCATEGORY, THERMALLOSS, TYPE, VALUE\n",
      "\t \n"
     ]
    }
   ],
   "source": [
    "print(\"Column Names:\")\n",
    "\n",
    "lencolsets = 4\n",
    "colsets = [colnames[i:i + lencolsets] for i in range(0, len(colnames), lencolsets)]\n",
    "for colset in colsets:\n",
    "\tprint(\"\\t\", \", \".join(colset))"
   ]
  },
  {
   "cell_type": "code",
   "execution_count": 5,
   "id": "88f32d53",
   "metadata": {},
   "outputs": [],
   "source": [
    "# Trim unused columns\n",
    "keep_columns = [\"Part\", \"Value\", \"Device\", \"Footprint Name\", \"Detailed Description\"]\n",
    "for row in rows:\n",
    "\tfor col in colnames:\n",
    "\t\tif col not in keep_columns:\n",
    "\t\t\trow.pop(col, None)"
   ]
  },
  {
   "cell_type": "markdown",
   "id": "cd5875c5",
   "metadata": {},
   "source": [
    "## Match Parts to Digikey Links"
   ]
  },
  {
   "cell_type": "code",
   "execution_count": 6,
   "id": "ad9bbd64",
   "metadata": {},
   "outputs": [
    {
     "name": "stdout",
     "output_type": "stream",
     "text": [
      "No link found for device: BATTERYLIPO-TABS in PWR1:BAT1:1S-1C-LIPO with value \n"
     ]
    }
   ],
   "source": [
    "# Map devices to links\n",
    "\n",
    "# Items with different names in links \n",
    "altnames = {\n",
    "\t\"TRIMPOTTC33X\": \"TC33X\",\n",
    "\t\"ERA6AEB134V\": \"ERA-6AEB134V\",\n",
    "\t\"ERA6AEB124V\": \"ERA-6AEB124V\",\n",
    "\t\"WE-PD_7332\": \"CL10B475KQ8NQNC\",\n",
    "}\n",
    "\n",
    "# Find link from column key\n",
    "def findlink(key: str):\n",
    "\tfor row in rows:\n",
    "\t\trd = row[key]\n",
    "\t\tif rd in altnames:\n",
    "\t\t\trd = altnames[rd]\n",
    "\t\tfor i in range(len(rd), 4, -1):\n",
    "\t\t\tfor link in links:\n",
    "\t\t\t\tif rd[:i] in link:\n",
    "\t\t\t\t\trow['Link'] = link\n",
    "\t\t\t\t\tbreak\n",
    "\t\t\telse:\n",
    "\t\t\t\tcontinue\n",
    "\t\t\tbreak\n",
    "\t\n",
    "# First try to find link with 'Device' column\n",
    "findlink('Device')\n",
    "# Check for ones without link\n",
    "nolink = [r for r in rows if 'Link' not in r]\n",
    "for r in nolink:\n",
    "\tprint(\"No link found for device:\", r['Device'], \"in\", r[\"Part\"], \"with value\", r[\"Value\"])\n",
    "\n"
   ]
  },
  {
   "cell_type": "code",
   "execution_count": 7,
   "id": "14708995",
   "metadata": {},
   "outputs": [],
   "source": [
    "# Extract info from links\n",
    "\n",
    "base_link_1 = \"digikey.ca/en/products/detail/\"\n",
    "base_link_2 = \"digikey.ca/product-detail/\"\n",
    "for row in rows:\n",
    "\tif 'Link' in row:\n",
    "\t\tlink = row['Link']\n",
    "\t\t# Extract manufacturer part number from link\n",
    "\t\tif base_link_1 in link:\n",
    "\t\t\tdpkn = link.split(base_link_1)[1].split('/')[1]\n",
    "\t\telif base_link_2 in link:\n",
    "\t\t\tdpkn = link.split(base_link_2)[1].split('/')[1]\n",
    "\t\telse:\n",
    "\t\t\tprint(\"Unknown link format:\", link)\n",
    "\t\t\tcontinue\n",
    "\t\trow['Manuf Part Number'] = dpkn"
   ]
  },
  {
   "cell_type": "markdown",
   "id": "aee71fbf",
   "metadata": {},
   "source": [
    "## Fetch Data from Digikey About Items"
   ]
  },
  {
   "cell_type": "code",
   "execution_count": null,
   "id": "0c47da30",
   "metadata": {},
   "outputs": [
    {
     "name": "stdout",
     "output_type": "stream",
     "text": [
      "The dotenv extension is already loaded. To reload it, use:\n",
      "  %reload_ext dotenv\n"
     ]
    }
   ],
   "source": [
    "# Add Digikey Data from links to the dataset\n",
    "# Ensure that .env contains DIGIKEY_CLIENT_ID, DIGIKEY_CLIENT_SECRET, and DIGIKEY_STORAGE_PATH\n",
    "\n",
    "%load_ext dotenv\n",
    "%dotenv\n",
    "\n",
    "import digikey\n",
    "from digikey.v4.productinformation import KeywordRequest\n",
    "import os\n",
    "import time\n",
    "\n",
    "# Load secrets from .env\n",
    "api_id = os.environ.get(\"DIGIKEY_CLIENT_ID\")\n",
    "api_secret = os.environ.get(\"DIGIKEY_CLIENT_SECRET\")\n",
    "storage_path = os.environ.get(\"DIGIKEY_STORAGE_PATH\") # Make sure this isn't commited and pushed\n",
    "os.environ['DIGIKEY_CLIENT_SANDBOX'] = 'False'\n",
    "\n",
    "if not api_id or not api_secret or not storage_path:\n",
    "\traise ValueError(\"DIGIKEY_CLIENT_ID, DIGIKEY_CLIENT_SECRET, and DIGIKEY_STORAGE_PATH must be set in environment variables\")\n",
    "\n",
    "CACHE_DIR = storage_path\n",
    "if not os.path.exists(CACHE_DIR):\n",
    "\tos.mkdir(CACHE_DIR)\n",
    "\n",
    "alternatives = {\n",
    "\t\"INA106U-2K5\": \"INA106U/2K5\"\n",
    "}\n",
    "memo = {}\n",
    "\n",
    "cached = 0 \n",
    "fetched = 0\n",
    "failed = 0\n",
    "for row in rows:\n",
    "\tif 'Manuf Part Number' in row:\n",
    "\t\tdpkn = row['Manuf Part Number']\n",
    "\t\tif dpkn in alternatives:\n",
    "\t\t\tdpkn = alternatives[dpkn]\n",
    "\t\tif dpkn in memo:\n",
    "\t\t\tcached += 1\n",
    "\t\t\trow['Raw Response'] = memo[dpkn]\n",
    "\t\t\tcontinue\n",
    "\t\tif 'Raw Response' in row:\n",
    "\t\t\tcached += 1\n",
    "\t\t\tmemo[dpkn] = row['Raw Response']\n",
    "\t\t\tcontinue\n",
    "\t\ttry:\n",
    "\t\t\trequest = KeywordRequest(keywords=dpkn, limit=1, offset=0)\n",
    "\t\t\tresponse = digikey.keyword_search(body=request)\n",
    "\t\t\tif response.products:\n",
    "\t\t\t\tfetched += 1\n",
    "\t\t\t\tproduct = response.products[0]\n",
    "\t\t\t\trow['Raw Response'] = product\n",
    "\t\t\t\tmemo[dpkn] = product\n",
    "\t\t\telse:\n",
    "\t\t\t\tfailed += 1\n",
    "\t\t\t\tprint(\"\\nNo product found for\", dpkn)\n",
    "\t\texcept Exception as e:\n",
    "\t\t\tprint(\"Error fetching data for\", dpkn, \":\", e)\n",
    "\t\ttime.sleep(0.3)  # To avoid hitting rate limits\n",
    "\n",
    "print(f\"Cached: {cached}, Fetched: {fetched}, Failed: {failed}\")\n"
   ]
  },
  {
   "cell_type": "code",
   "execution_count": null,
   "id": "a01e4c43",
   "metadata": {},
   "outputs": [],
   "source": [
    "# Extract useful fields from Digikey data to the dataset\n",
    "for row in rows:\n",
    "\tif 'Raw Response' in row:\n",
    "\t\tproduct = row['Raw Response']\n",
    "\t\trow['Datasheet URL'] = product.datasheet_url\n",
    "\t\tif product.description.product_description:\n",
    "\t\t\trow['Description'] = product.description.product_description\n",
    "\t\telse:\n",
    "\t\t\trow['Description'] = product.description.detailed_description\n",
    "\t\trow['Manufacturer'] = product.manufacturer.name\n",
    "\t\tvariant = next((x for x in product.product_variations if \"Cut Tape\" in x.package_type.name), None)\n",
    "\t\tif not variant:\n",
    "\t\t\tvariant = product.product_variations[0]\n",
    "\t\trow['DigiKey Part Number'] = variant.digi_key_product_number\n",
    "\t\trow['Pricing'] = variant.standard_pricing\n",
    "\t\trow['Stock'] = variant.quantity_availablefor_package_type\n",
    "\telse:\n",
    "\t\tprint(\"No DigiKey data for\", row['Device'])\n"
   ]
  },
  {
   "cell_type": "markdown",
   "id": "369d5d66",
   "metadata": {},
   "source": [
    "## Save Cleaned BOM to File"
   ]
  },
  {
   "cell_type": "code",
   "execution_count": null,
   "id": "c7991e2a",
   "metadata": {},
   "outputs": [],
   "source": [
    "# Save to file\n",
    "output_file_name = bom_file_name.replace(\".csv\", \" Tidy.csv\")\n",
    "\n",
    "with open(output_file_name, 'w', newline='') as file:\n",
    "\tfieldnames = [x for x in rows[0].keys() if x != \"Raw Response\"]\n",
    "\twriter = csv.DictWriter(file, fieldnames=fieldnames, delimiter=';')\n",
    "\twriter.writeheader()\n",
    "\tfor row in rows:\n",
    "\t\trowcopy = row.copy()\n",
    "\t\trowcopy.pop('Raw Response', None)  # Remove Raw Response to avoid clutter\n",
    "\t\twriter.writerow(rowcopy)"
   ]
  },
  {
   "cell_type": "markdown",
   "id": "dec3f920",
   "metadata": {},
   "source": [
    "Copyright © 2025 Callum Mackenzie "
   ]
  }
 ],
 "metadata": {
  "kernelspec": {
   "display_name": "Python 3",
   "language": "python",
   "name": "python3"
  },
  "language_info": {
   "codemirror_mode": {
    "name": "ipython",
    "version": 3
   },
   "file_extension": ".py",
   "mimetype": "text/x-python",
   "name": "python",
   "nbconvert_exporter": "python",
   "pygments_lexer": "ipython3",
   "version": "3.10.16"
  }
 },
 "nbformat": 4,
 "nbformat_minor": 5
}
